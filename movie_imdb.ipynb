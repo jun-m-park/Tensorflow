{
 "cells": [
  {
   "cell_type": "code",
   "execution_count": 1,
   "metadata": {},
   "outputs": [],
   "source": [
    "import tensorflow as tf\n",
    "from tensorflow import keras\n",
    "import numpy as np"
   ]
  },
  {
   "cell_type": "code",
   "execution_count": 2,
   "metadata": {},
   "outputs": [
    {
     "name": "stderr",
     "output_type": "stream",
     "text": [
      "c:\\users\\junmin park\\anaconda3\\envs\\tensorflow\\lib\\site-packages\\tensorflow_core\\python\\keras\\datasets\\imdb.py:129: VisibleDeprecationWarning: Creating an ndarray from ragged nested sequences (which is a list-or-tuple of lists-or-tuples-or ndarrays with different lengths or shapes) is deprecated. If you meant to do this, you must specify 'dtype=object' when creating the ndarray\n",
      "  x_train, y_train = np.array(xs[:idx]), np.array(labels[:idx])\n",
      "c:\\users\\junmin park\\anaconda3\\envs\\tensorflow\\lib\\site-packages\\tensorflow_core\\python\\keras\\datasets\\imdb.py:130: VisibleDeprecationWarning: Creating an ndarray from ragged nested sequences (which is a list-or-tuple of lists-or-tuples-or ndarrays with different lengths or shapes) is deprecated. If you meant to do this, you must specify 'dtype=object' when creating the ndarray\n",
      "  x_test, y_test = np.array(xs[idx:]), np.array(labels[idx:])\n"
     ]
    }
   ],
   "source": [
    "imdb = keras.datasets.imdb\n",
    "(train_data, train_labels), (test_data, test_labels) = imdb.load_data(num_words=10000)"
   ]
  },
  {
   "cell_type": "code",
   "execution_count": 3,
   "metadata": {},
   "outputs": [
    {
     "name": "stdout",
     "output_type": "stream",
     "text": [
      "훈련 샘플: 25000, 레이블: 25000\n"
     ]
    }
   ],
   "source": [
    "print(\"훈련 샘플: {}, 레이블: {}\".format(len(train_data), len(train_labels)))"
   ]
  },
  {
   "cell_type": "code",
   "execution_count": 4,
   "metadata": {},
   "outputs": [
    {
     "name": "stdout",
     "output_type": "stream",
     "text": [
      "[1, 14, 22, 16, 43, 530, 973, 1622, 1385, 65, 458, 4468, 66, 3941, 4, 173, 36, 256, 5, 25, 100, 43, 838, 112, 50, 670, 2, 9, 35, 480, 284, 5, 150, 4, 172, 112, 167, 2, 336, 385, 39, 4, 172, 4536, 1111, 17, 546, 38, 13, 447, 4, 192, 50, 16, 6, 147, 2025, 19, 14, 22, 4, 1920, 4613, 469, 4, 22, 71, 87, 12, 16, 43, 530, 38, 76, 15, 13, 1247, 4, 22, 17, 515, 17, 12, 16, 626, 18, 2, 5, 62, 386, 12, 8, 316, 8, 106, 5, 4, 2223, 5244, 16, 480, 66, 3785, 33, 4, 130, 12, 16, 38, 619, 5, 25, 124, 51, 36, 135, 48, 25, 1415, 33, 6, 22, 12, 215, 28, 77, 52, 5, 14, 407, 16, 82, 2, 8, 4, 107, 117, 5952, 15, 256, 4, 2, 7, 3766, 5, 723, 36, 71, 43, 530, 476, 26, 400, 317, 46, 7, 4, 2, 1029, 13, 104, 88, 4, 381, 15, 297, 98, 32, 2071, 56, 26, 141, 6, 194, 7486, 18, 4, 226, 22, 21, 134, 476, 26, 480, 5, 144, 30, 5535, 18, 51, 36, 28, 224, 92, 25, 104, 4, 226, 65, 16, 38, 1334, 88, 12, 16, 283, 5, 16, 4472, 113, 103, 32, 15, 16, 5345, 19, 178, 32]\n"
     ]
    }
   ],
   "source": [
    "print(train_data[0])"
   ]
  },
  {
   "cell_type": "code",
   "execution_count": 5,
   "metadata": {},
   "outputs": [
    {
     "name": "stdout",
     "output_type": "stream",
     "text": [
      "[1, 591, 202, 14, 31, 6, 717, 10, 10, 2, 2, 5, 4, 360, 7, 4, 177, 5760, 394, 354, 4, 123, 9, 1035, 1035, 1035, 10, 10, 13, 92, 124, 89, 488, 7944, 100, 28, 1668, 14, 31, 23, 27, 7479, 29, 220, 468, 8, 124, 14, 286, 170, 8, 157, 46, 5, 27, 239, 16, 179, 2, 38, 32, 25, 7944, 451, 202, 14, 6, 717]\n"
     ]
    }
   ],
   "source": [
    "print(test_data[0])"
   ]
  },
  {
   "cell_type": "code",
   "execution_count": 6,
   "metadata": {},
   "outputs": [
    {
     "data": {
      "text/plain": [
       "(218, 189)"
      ]
     },
     "execution_count": 6,
     "metadata": {},
     "output_type": "execute_result"
    }
   ],
   "source": [
    "len(train_data[0]), len(train_data[1])"
   ]
  },
  {
   "cell_type": "code",
   "execution_count": 7,
   "metadata": {},
   "outputs": [],
   "source": [
    "# 단어와 정수 인덱스를 매핑한 딕셔너리\n",
    "word_index = imdb.get_word_index()\n",
    "\n",
    "# 처음 몇 개 인덱스는 사전에 정의되어 있습니다\n",
    "word_index = {k:(v+3) for k,v in word_index.items()}\n",
    "word_index[\"<PAD>\"] = 0\n",
    "word_index[\"<START>\"] = 1\n",
    "word_index[\"<UNK>\"] = 2  # unknown\n",
    "word_index[\"<UNUSED>\"] = 3\n",
    "\n",
    "reverse_word_index = dict([(value, key) for (key, value) in word_index.items()])\n",
    "def decode_review(text):\n",
    "    return ' '.join([reverse_word_index.get(i) for i in text])"
   ]
  },
  {
   "cell_type": "code",
   "execution_count": 8,
   "metadata": {},
   "outputs": [
    {
     "data": {
      "text/plain": [
       "\"<START> this film was just brilliant casting location scenery story direction everyone's really suited the part they played and you could just imagine being there robert <UNK> is an amazing actor and now the same being director <UNK> father came from the same scottish island as myself so i loved the fact there was a real connection with this film the witty remarks throughout the film were great it was just brilliant so much that i bought the film as soon as it was released for <UNK> and would recommend it to everyone to watch and the fly fishing was amazing really cried at the end it was so sad and you know what they say if you cry at a film it must have been good and this definitely was also <UNK> to the two little boy's that played the <UNK> of norman and paul they were just brilliant children are often left out of the <UNK> list i think because the stars that play them all grown up are such a big profile for the whole film but these children are amazing and should be praised for what they have done don't you think the whole story was so lovely because it was true and was someone's life after all that was shared with us all\""
      ]
     },
     "execution_count": 8,
     "metadata": {},
     "output_type": "execute_result"
    }
   ],
   "source": [
    "decode_review(train_data[0])"
   ]
  },
  {
   "cell_type": "code",
   "execution_count": 9,
   "metadata": {},
   "outputs": [],
   "source": [
    "train_data = keras.preprocessing.sequence.pad_sequences(train_data,\n",
    "                                                        value=word_index[\"<PAD>\"],\n",
    "                                                        padding='post',\n",
    "                                                        maxlen=256)\n",
    "\n",
    "test_data = keras.preprocessing.sequence.pad_sequences(test_data,\n",
    "                                                       value=word_index[\"<PAD>\"],\n",
    "                                                       padding='post',\n",
    "                                                       maxlen=256)"
   ]
  },
  {
   "cell_type": "code",
   "execution_count": 10,
   "metadata": {},
   "outputs": [
    {
     "data": {
      "text/plain": [
       "(256, 256)"
      ]
     },
     "execution_count": 10,
     "metadata": {},
     "output_type": "execute_result"
    }
   ],
   "source": [
    "len(train_data[0]), len(train_data[1])"
   ]
  },
  {
   "cell_type": "code",
   "execution_count": 11,
   "metadata": {},
   "outputs": [
    {
     "name": "stdout",
     "output_type": "stream",
     "text": [
      "[   1   14   22   16   43  530  973 1622 1385   65  458 4468   66 3941\n",
      "    4  173   36  256    5   25  100   43  838  112   50  670    2    9\n",
      "   35  480  284    5  150    4  172  112  167    2  336  385   39    4\n",
      "  172 4536 1111   17  546   38   13  447    4  192   50   16    6  147\n",
      " 2025   19   14   22    4 1920 4613  469    4   22   71   87   12   16\n",
      "   43  530   38   76   15   13 1247    4   22   17  515   17   12   16\n",
      "  626   18    2    5   62  386   12    8  316    8  106    5    4 2223\n",
      " 5244   16  480   66 3785   33    4  130   12   16   38  619    5   25\n",
      "  124   51   36  135   48   25 1415   33    6   22   12  215   28   77\n",
      "   52    5   14  407   16   82    2    8    4  107  117 5952   15  256\n",
      "    4    2    7 3766    5  723   36   71   43  530  476   26  400  317\n",
      "   46    7    4    2 1029   13  104   88    4  381   15  297   98   32\n",
      " 2071   56   26  141    6  194 7486   18    4  226   22   21  134  476\n",
      "   26  480    5  144   30 5535   18   51   36   28  224   92   25  104\n",
      "    4  226   65   16   38 1334   88   12   16  283    5   16 4472  113\n",
      "  103   32   15   16 5345   19  178   32    0    0    0    0    0    0\n",
      "    0    0    0    0    0    0    0    0    0    0    0    0    0    0\n",
      "    0    0    0    0    0    0    0    0    0    0    0    0    0    0\n",
      "    0    0    0    0]\n"
     ]
    }
   ],
   "source": [
    "print(train_data[0])"
   ]
  },
  {
   "cell_type": "code",
   "execution_count": 12,
   "metadata": {},
   "outputs": [
    {
     "name": "stdout",
     "output_type": "stream",
     "text": [
      "Model: \"sequential\"\n",
      "_________________________________________________________________\n",
      "Layer (type)                 Output Shape              Param #   \n",
      "=================================================================\n",
      "embedding (Embedding)        (None, None, 16)          160000    \n",
      "_________________________________________________________________\n",
      "global_average_pooling1d (Gl (None, 16)                0         \n",
      "_________________________________________________________________\n",
      "dense (Dense)                (None, 16)                272       \n",
      "_________________________________________________________________\n",
      "dense_1 (Dense)              (None, 1)                 17        \n",
      "=================================================================\n",
      "Total params: 160,289\n",
      "Trainable params: 160,289\n",
      "Non-trainable params: 0\n",
      "_________________________________________________________________\n"
     ]
    }
   ],
   "source": [
    "# 입력 크기는 영화 리뷰 데이터셋에 적용된 어휘 사전의 크기입니다(10,000개의 단어)\n",
    "vocab_size = 10000\n",
    "\n",
    "model = keras.Sequential()\n",
    "model.add(keras.layers.Embedding(vocab_size, 16, input_shape=(None,)))\n",
    "model.add(keras.layers.GlobalAveragePooling1D())\n",
    "model.add(keras.layers.Dense(16, activation='relu'))\n",
    "model.add(keras.layers.Dense(1, activation='sigmoid'))\n",
    "\n",
    "model.summary()"
   ]
  },
  {
   "cell_type": "code",
   "execution_count": 14,
   "metadata": {},
   "outputs": [],
   "source": [
    "model.compile(optimizer='adam', loss='binary_crossentropy', metrics=['accuracy'])"
   ]
  },
  {
   "cell_type": "code",
   "execution_count": 15,
   "metadata": {},
   "outputs": [],
   "source": [
    "x_val = train_data[:10000]\n",
    "partial_x_train = train_data[10000:]\n",
    "\n",
    "y_val = train_labels[:10000]\n",
    "partial_y_train = train_labels[10000:]"
   ]
  },
  {
   "cell_type": "code",
   "execution_count": 20,
   "metadata": {},
   "outputs": [
    {
     "name": "stdout",
     "output_type": "stream",
     "text": [
      "Train on 15000 samples, validate on 10000 samples\n",
      "Epoch 1/40\n",
      "15000/15000 [==============================] - 1s 95us/sample - loss: 0.0616 - accuracy: 0.9867 - val_loss: 0.3534 - val_accuracy: 0.8774\n",
      "Epoch 2/40\n",
      "15000/15000 [==============================] - 1s 94us/sample - loss: 0.0594 - accuracy: 0.9879 - val_loss: 0.3568 - val_accuracy: 0.8786\n",
      "Epoch 3/40\n",
      "15000/15000 [==============================] - 1s 98us/sample - loss: 0.0571 - accuracy: 0.9882 - val_loss: 0.3621 - val_accuracy: 0.8771\n",
      "Epoch 4/40\n",
      "15000/15000 [==============================] - 1s 98us/sample - loss: 0.0547 - accuracy: 0.9889 - val_loss: 0.3681 - val_accuracy: 0.8751\n",
      "Epoch 5/40\n",
      "15000/15000 [==============================] - 1s 97us/sample - loss: 0.0528 - accuracy: 0.9897 - val_loss: 0.3707 - val_accuracy: 0.8782\n",
      "Epoch 6/40\n",
      "15000/15000 [==============================] - 1s 94us/sample - loss: 0.0508 - accuracy: 0.9902 - val_loss: 0.3762 - val_accuracy: 0.8777\n",
      "Epoch 7/40\n",
      "15000/15000 [==============================] - 1s 95us/sample - loss: 0.0491 - accuracy: 0.9902 - val_loss: 0.3814 - val_accuracy: 0.8769\n",
      "Epoch 8/40\n",
      "15000/15000 [==============================] - 1s 94us/sample - loss: 0.0472 - accuracy: 0.9916 - val_loss: 0.3872 - val_accuracy: 0.8733\n",
      "Epoch 9/40\n",
      "15000/15000 [==============================] - 1s 96us/sample - loss: 0.0451 - accuracy: 0.9917 - val_loss: 0.3907 - val_accuracy: 0.8762\n",
      "Epoch 10/40\n",
      "15000/15000 [==============================] - 1s 97us/sample - loss: 0.0436 - accuracy: 0.9925 - val_loss: 0.3969 - val_accuracy: 0.8728\n",
      "Epoch 11/40\n",
      "15000/15000 [==============================] - 1s 96us/sample - loss: 0.0423 - accuracy: 0.9929 - val_loss: 0.4014 - val_accuracy: 0.8737\n",
      "Epoch 12/40\n",
      "15000/15000 [==============================] - 1s 95us/sample - loss: 0.0400 - accuracy: 0.9935 - val_loss: 0.4069 - val_accuracy: 0.8753\n",
      "Epoch 13/40\n",
      "15000/15000 [==============================] - 1s 96us/sample - loss: 0.0391 - accuracy: 0.9939 - val_loss: 0.4121 - val_accuracy: 0.8745\n",
      "Epoch 14/40\n",
      "15000/15000 [==============================] - 1s 94us/sample - loss: 0.0373 - accuracy: 0.9941 - val_loss: 0.4177 - val_accuracy: 0.8729\n",
      "Epoch 15/40\n",
      "15000/15000 [==============================] - 1s 97us/sample - loss: 0.0358 - accuracy: 0.9946 - val_loss: 0.4229 - val_accuracy: 0.8727\n",
      "Epoch 16/40\n",
      "15000/15000 [==============================] - 1s 94us/sample - loss: 0.0342 - accuracy: 0.9949 - val_loss: 0.4282 - val_accuracy: 0.8714\n",
      "Epoch 17/40\n",
      "15000/15000 [==============================] - 1s 95us/sample - loss: 0.0331 - accuracy: 0.9950 - val_loss: 0.4334 - val_accuracy: 0.8717\n",
      "Epoch 18/40\n",
      "15000/15000 [==============================] - 1s 94us/sample - loss: 0.0317 - accuracy: 0.9959 - val_loss: 0.4390 - val_accuracy: 0.8720\n",
      "Epoch 19/40\n",
      "15000/15000 [==============================] - 1s 96us/sample - loss: 0.0306 - accuracy: 0.9957 - val_loss: 0.4451 - val_accuracy: 0.8699\n",
      "Epoch 20/40\n",
      "15000/15000 [==============================] - 1s 96us/sample - loss: 0.0295 - accuracy: 0.9959 - val_loss: 0.4504 - val_accuracy: 0.8699\n",
      "Epoch 21/40\n",
      "15000/15000 [==============================] - 1s 96us/sample - loss: 0.0284 - accuracy: 0.9963 - val_loss: 0.4552 - val_accuracy: 0.8698\n",
      "Epoch 22/40\n",
      "15000/15000 [==============================] - 1s 95us/sample - loss: 0.0272 - accuracy: 0.9967 - val_loss: 0.4603 - val_accuracy: 0.8700\n",
      "Epoch 23/40\n",
      "15000/15000 [==============================] - 1s 95us/sample - loss: 0.0261 - accuracy: 0.9967 - val_loss: 0.4667 - val_accuracy: 0.8695\n",
      "Epoch 24/40\n",
      "15000/15000 [==============================] - 1s 95us/sample - loss: 0.0252 - accuracy: 0.9969 - val_loss: 0.4710 - val_accuracy: 0.8687\n",
      "Epoch 25/40\n",
      "15000/15000 [==============================] - 1s 93us/sample - loss: 0.0241 - accuracy: 0.9973 - val_loss: 0.4775 - val_accuracy: 0.8687\n",
      "Epoch 26/40\n",
      "15000/15000 [==============================] - 1s 95us/sample - loss: 0.0233 - accuracy: 0.9973 - val_loss: 0.4839 - val_accuracy: 0.8678\n",
      "Epoch 27/40\n",
      "15000/15000 [==============================] - 1s 93us/sample - loss: 0.0223 - accuracy: 0.9978 - val_loss: 0.4883 - val_accuracy: 0.8675\n",
      "Epoch 28/40\n",
      "15000/15000 [==============================] - 1s 95us/sample - loss: 0.0217 - accuracy: 0.9976 - val_loss: 0.4938 - val_accuracy: 0.8675\n",
      "Epoch 29/40\n",
      "15000/15000 [==============================] - 1s 94us/sample - loss: 0.0206 - accuracy: 0.9979 - val_loss: 0.4990 - val_accuracy: 0.8677\n",
      "Epoch 30/40\n",
      "15000/15000 [==============================] - 1s 94us/sample - loss: 0.0200 - accuracy: 0.9983 - val_loss: 0.5045 - val_accuracy: 0.8673\n",
      "Epoch 31/40\n",
      "15000/15000 [==============================] - 1s 96us/sample - loss: 0.0190 - accuracy: 0.9985 - val_loss: 0.5100 - val_accuracy: 0.8670\n",
      "Epoch 32/40\n",
      "15000/15000 [==============================] - 1s 94us/sample - loss: 0.0186 - accuracy: 0.9981 - val_loss: 0.5155 - val_accuracy: 0.8666\n",
      "Epoch 33/40\n",
      "15000/15000 [==============================] - 1s 97us/sample - loss: 0.0177 - accuracy: 0.9985 - val_loss: 0.5237 - val_accuracy: 0.8661\n",
      "Epoch 34/40\n",
      "15000/15000 [==============================] - 1s 96us/sample - loss: 0.0170 - accuracy: 0.9986 - val_loss: 0.5265 - val_accuracy: 0.8658\n",
      "Epoch 35/40\n",
      "15000/15000 [==============================] - 1s 94us/sample - loss: 0.0164 - accuracy: 0.9989 - val_loss: 0.5320 - val_accuracy: 0.8659\n",
      "Epoch 36/40\n",
      "15000/15000 [==============================] - 1s 94us/sample - loss: 0.0158 - accuracy: 0.9987 - val_loss: 0.5372 - val_accuracy: 0.8658\n",
      "Epoch 37/40\n",
      "15000/15000 [==============================] - 1s 94us/sample - loss: 0.0154 - accuracy: 0.9987 - val_loss: 0.5421 - val_accuracy: 0.8663\n",
      "Epoch 38/40\n",
      "15000/15000 [==============================] - 1s 95us/sample - loss: 0.0146 - accuracy: 0.9993 - val_loss: 0.5474 - val_accuracy: 0.8660\n",
      "Epoch 39/40\n",
      "15000/15000 [==============================] - 1s 95us/sample - loss: 0.0141 - accuracy: 0.9991 - val_loss: 0.5543 - val_accuracy: 0.8651\n",
      "Epoch 40/40\n",
      "15000/15000 [==============================] - 1s 97us/sample - loss: 0.0137 - accuracy: 0.9993 - val_loss: 0.5584 - val_accuracy: 0.8656\n"
     ]
    }
   ],
   "source": [
    "history = model.fit(partial_x_train,\n",
    "                    partial_y_train,\n",
    "                    epochs=40,\n",
    "                    batch_size=512,\n",
    "                    validation_data=(x_val, y_val),\n",
    "                    verbose=1)"
   ]
  },
  {
   "cell_type": "code",
   "execution_count": 21,
   "metadata": {},
   "outputs": [
    {
     "name": "stdout",
     "output_type": "stream",
     "text": [
      "25000/25000 - 1s - loss: 0.5964 - accuracy: 0.8534\n",
      "[0.5963706064844132, 0.85344]\n"
     ]
    }
   ],
   "source": [
    "results = model.evaluate(test_data,  test_labels, verbose=2)\n",
    "\n",
    "print(results)"
   ]
  },
  {
   "cell_type": "code",
   "execution_count": 22,
   "metadata": {},
   "outputs": [
    {
     "data": {
      "text/plain": [
       "dict_keys(['loss', 'accuracy', 'val_loss', 'val_accuracy'])"
      ]
     },
     "execution_count": 22,
     "metadata": {},
     "output_type": "execute_result"
    }
   ],
   "source": [
    "history_dict = history.history\n",
    "history_dict.keys()"
   ]
  },
  {
   "cell_type": "code",
   "execution_count": 23,
   "metadata": {},
   "outputs": [
    {
     "data": {
      "image/png": "[encoded data removed]",
      "text/plain": [
       "<Figure size 432x288 with 1 Axes>"
      ]
     },
     "metadata": {
      "needs_background": "light"
     },
     "output_type": "display_data"
    }
   ],
   "source": [
    "import matplotlib.pyplot as plt\n",
    "\n",
    "acc = history_dict['accuracy']\n",
    "val_acc = history_dict['val_accuracy']\n",
    "loss = history_dict['loss']\n",
    "val_loss = history_dict['val_loss']\n",
    "\n",
    "epochs = range(1, len(acc) + 1)\n",
    "\n",
    "# \"bo\"는 \"파란색 점\"입니다\n",
    "plt.plot(epochs, loss, 'bo', label='Training loss')\n",
    "# b는 \"파란 실선\"입니다\n",
    "plt.plot(epochs, val_loss, 'b', label='Validation loss')\n",
    "plt.title('Training and validation loss')\n",
    "plt.xlabel('Epochs')\n",
    "plt.ylabel('Loss')\n",
    "plt.legend()\n",
    "\n",
    "plt.show()"
   ]
  },
  {
   "cell_type": "code",
   "execution_count": 24,
   "metadata": {},
   "outputs": [
    {
     "data": {
      "image/png": "[encoded data removed]",
      "text/plain": [
       "<Figure size 432x288 with 1 Axes>"
      ]
     },
     "metadata": {
      "needs_background": "light"
     },
     "output_type": "display_data"
    }
   ],
   "source": [
    "plt.clf()   # 그림을 초기화합니다\n",
    "\n",
    "plt.plot(epochs, acc, 'bo', label='Training acc')\n",
    "plt.plot(epochs, val_acc, 'b', label='Validation acc')\n",
    "plt.title('Training and validation accuracy')\n",
    "plt.xlabel('Epochs')\n",
    "plt.ylabel('Accuracy')\n",
    "plt.legend()\n",
    "\n",
    "plt.show()"
   ]
  },
  {
   "cell_type": "code",
   "execution_count": null,
   "metadata": {},
   "outputs": [],
   "source": []
  }
 ],
 "metadata": {
  "kernelspec": {
   "display_name": "Python 3",
   "language": "python",
   "name": "python3"
  },
  "language_info": {
   "codemirror_mode": {
    "name": "ipython",
    "version": 3
   },
   "file_extension": ".py",
   "mimetype": "text/x-python",
   "name": "python",
   "nbconvert_exporter": "python",
   "pygments_lexer": "ipython3",
   "version": "3.7.7"
  }
 },
 "nbformat": 4,
 "nbformat_minor": 4
}
